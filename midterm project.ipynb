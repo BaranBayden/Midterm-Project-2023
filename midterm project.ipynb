{
 "cells": [
  {
   "attachments": {},
   "cell_type": "markdown",
   "metadata": {},
   "source": [
    "First dataset:"
   ]
  },
  {
   "cell_type": "code",
   "execution_count": null,
   "metadata": {},
   "outputs": [],
   "source": [
    "import csv\n",
    "import pandas as pd\n",
    "\n",
    "def convert_csv_to_dol(filename):\n",
    "    with open(filename, 'r') as f:\n",
    "        reader = csv.reader(f)\n",
    "        headers = next(reader)  # first row is header\n",
    "        dol = []\n",
    "        for row in reader:\n",
    "            row_dict = {}\n",
    "            for i, val in enumerate(row):\n",
    "                if i in [1, 5, 10, 11] and val != '' and val != 'Unknown':  # convert to float\n",
    "                    val = float(val.replace(',', '').replace('$', '').replace('€', '').replace('₹', '').replace('SEK', '').replace('DKK','').replace('£','').replace('CA', '').replace('₩', '').replace('¥', '').replace('A', '').replace('NOK', '').replace('CN', ''))\n",
    "                elif i == 6 or i == 7:  # split comma-separated values\n",
    "                    val = val.split(', ')\n",
    "                elif val == '':  # convert empty string to None\n",
    "                    val = None\n",
    "                row_dict[headers[i]] = val\n",
    "            dol.append(row_dict)\n",
    "    return dol\n",
    "\n",
    "\n",
    "\n",
    "\n",
    "dol = convert_csv_to_dol('movies.csv')\n",
    "\n",
    "df = pd.DataFrame(dol)\n",
    "\n",
    "display(df)\n"
   ]
  },
  {
   "attachments": {},
   "cell_type": "markdown",
   "metadata": {},
   "source": [
    "Second Dataset:"
   ]
  },
  {
   "cell_type": "code",
   "execution_count": null,
   "metadata": {},
   "outputs": [],
   "source": [
    "import csv\n",
    "import pandas as pd\n",
    "\n",
    "def convert_csv_to_dol(filename):\n",
    "    with open(filename, 'r') as f:\n",
    "        reader = csv.reader(f)\n",
    "        headers = next(reader)  # first row is header\n",
    "        dol = []\n",
    "        for row in reader:\n",
    "            row_dict = {}\n",
    "            for i, val in enumerate(row):\n",
    "                if i == 7 :  # split comma-separated values\n",
    "                    val = val.split(', ')\n",
    "                elif val == '':  # convert empty string to None\n",
    "                    val = None\n",
    "                row_dict[headers[i]] = val\n",
    "            dol.append(row_dict)\n",
    "    return dol\n",
    "\n",
    "print(dol)\n",
    "\n",
    "\"\"\"\n",
    "dol = convert_csv_to_dol('mymoviedb.csv')\n",
    "\n",
    "df = pd.DataFrame(dol)\n",
    "\n",
    "display(df)\n",
    "\"\"\"\n"
   ]
  },
  {
   "attachments": {},
   "cell_type": "markdown",
   "metadata": {},
   "source": [
    "Third Dataset:"
   ]
  },
  {
   "cell_type": "code",
   "execution_count": null,
   "metadata": {},
   "outputs": [],
   "source": [
    "import pandas as pd\n",
    "\n",
    "# Read the Excel file into a pandas DataFrame\n",
    "df = pd.read_excel('path/to/excel/file.xlsx', sheet_name='Sheet1')\n",
    "\n",
    "# Display the first 5 rows of the DataFrame\n",
    "print(df.head())\n"
   ]
  }
 ],
 "metadata": {
  "kernelspec": {
   "display_name": "base",
   "language": "python",
   "name": "python3"
  },
  "language_info": {
   "codemirror_mode": {
    "name": "ipython",
    "version": 3
   },
   "file_extension": ".py",
   "mimetype": "text/x-python",
   "name": "python",
   "nbconvert_exporter": "python",
   "pygments_lexer": "ipython3",
   "version": "3.9.7"
  },
  "orig_nbformat": 4,
  "vscode": {
   "interpreter": {
    "hash": "7c942ed36a32ddbd4313964b9f116badfeaeb006a784f640e060cdec7fb64cfd"
   }
  }
 },
 "nbformat": 4,
 "nbformat_minor": 2
}
